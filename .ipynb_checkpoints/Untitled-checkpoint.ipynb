{
 "cells": [
  {
   "cell_type": "code",
   "execution_count": 2,
   "metadata": {},
   "outputs": [
    {
     "name": "stdout",
     "output_type": "stream",
     "text": [
      "'findItemsAdvanced: Internal Server Error, Domain: CoreRuntime, Severity: Error, errorId: 5014, Error reading from XML stream: Unexpected character \\'(\\' (code 40) excepted space, or \\'>\\' or \"/>\"\\n at [row,col {unknown-source}]: [1,206]'\n",
      "{'errorMessage': {'error': {'errorId': '5014', 'domain': 'CoreRuntime', 'severity': 'Error', 'category': 'System', 'message': 'Error reading from XML stream: Unexpected character \\'(\\' (code 40) excepted space, or \\'>\\' or \"/>\"\\n at [row,col {unknown-source}]: [1,206]', 'subdomain': 'Comm_Recv', 'parameter': {'_name': 'Param1', 'value': 'Unexpected character \\'(\\' (code 40) excepted space, or \\'>\\' or \"/>\"\\n at [row,col {unknown-source}]: [1,206]'}}}}\n"
     ]
    }
   ],
   "source": [
    "from ebaysdk.finding import Connection as Finding\n",
    "from ebaysdk.exception import ConnectionError\n",
    "\n",
    "try:\n",
    "    api = Finding(config_file='ebay.yaml')\n",
    "    response = api.execute('findItemsAdvanced', payload)\n",
    "    print(response.dict())\n",
    "except ConnectionError as e:\n",
    "    print(e)\n",
    "    print(e.response.dict())"
   ]
  },
  {
   "cell_type": "code",
   "execution_count": 6,
   "metadata": {},
   "outputs": [
    {
     "name": "stderr",
     "output_type": "stream",
     "text": [
      "2022-07-08 14:24:45,990 ebaysdk [DEBUG]:execute: verb=findItemsAdvanced data={'keywords': 'knife', 'itemFilter': [{'name': 'condition', 'value': 'Used'}, {'name': 'ListingType', 'value': 'FixedPrice'}], 'aspectFilter': [{'aspectName': 'Brand', 'aspectValueName': 'Benchmade'}, {'aspectName': 'Brand', 'aspectValueName': 'Buck'}, {'aspectName': 'Brand', 'aspectValueName': 'Case'}, {'aspectName': 'Brand', 'aspectValueName': 'CRKT'}, {'aspectName': 'Brand', 'aspectValueName': 'Kershaw'}, {'aspectName': 'Brand', 'aspectValueName': 'Leatherman'}, {'aspectName': 'Brand', 'aspectValueName': 'Spyderco'}, {'aspectName': 'Brand', 'aspectValueName': 'Victorinox'}], 'paginationInput': {'entriesPerPage': 10, 'pageNumber': 1}, 'sortOrder': 'PricePlusShippingLowest'}\n",
      "2022-07-08 14:24:45,991 ebaysdk [DEBUG]:REQUEST (5fd693cf-09ac-45a1-adf0-5e6b79d2b009): POST https://svcs.ebay.com/services/search/FindingService/v1\n",
      "2022-07-08 14:24:45,991 ebaysdk [DEBUG]:headers={'X-EBAY-SOA-SERVICE-NAME': 'FindingService', 'X-EBAY-SOA-SERVICE-VERSION': '1.12.0', 'X-EBAY-SOA-SECURITY-APPNAME': 'DylanDey-knifePri-PRD-a01fb4833-6c83236f', 'X-EBAY-SOA-GLOBAL-ID': 'EBAY-US', 'X-EBAY-SOA-OPERATION-NAME': 'findItemsAdvanced', 'X-EBAY-SOA-REQUEST-DATA-FORMAT': 'XML', 'X-EBAY-SOA-RESPONSE-DATA-FORMAT': 'XML', 'Content-Type': 'text/xml', 'User-Agent': 'eBaySDK/2.2.0 Python/3.8.5 Windows/10', 'X-EBAY-SDK-REQUEST-ID': '5fd693cf-09ac-45a1-adf0-5e6b79d2b009', 'Content-Length': '1266'}\n",
      "2022-07-08 14:24:45,991 ebaysdk [DEBUG]:body=b'<?xml version=\\'1.0\\' encoding=\\'utf-8\\'?><findItemsAdvancedRequest xmlns=\"http://www.ebay.com/marketplace/search/v1/services\"><aspectFilter><aspectName>Brand</aspectName><aspectValueName>Benchmade</aspectValueName></aspectFilter><aspectFilter><aspectName>Brand</aspectName><aspectValueName>Buck</aspectValueName></aspectFilter><aspectFilter><aspectName>Brand</aspectName><aspectValueName>Case</aspectValueName></aspectFilter><aspectFilter><aspectName>Brand</aspectName><aspectValueName>CRKT</aspectValueName></aspectFilter><aspectFilter><aspectName>Brand</aspectName><aspectValueName>Kershaw</aspectValueName></aspectFilter><aspectFilter><aspectName>Brand</aspectName><aspectValueName>Leatherman</aspectValueName></aspectFilter><aspectFilter><aspectName>Brand</aspectName><aspectValueName>Spyderco</aspectValueName></aspectFilter><aspectFilter><aspectName>Brand</aspectName><aspectValueName>Victorinox</aspectValueName></aspectFilter><itemFilter><name>condition</name><value>Used</value></itemFilter><itemFilter><name>ListingType</name><value>FixedPrice</value></itemFilter><keywords>knife</keywords><paginationInput><entriesPerPage>10</entriesPerPage><pageNumber>1</pageNumber></paginationInput><sortOrder>PricePlusShippingLowest</sortOrder></findItemsAdvancedRequest>'\n",
      "2022-07-08 14:24:46,309 ebaysdk [DEBUG]:RESPONSE (5fd693cf-09ac-45a1-adf0-5e6b79d2b009):\n",
      "2022-07-08 14:24:46,309 ebaysdk [DEBUG]:elapsed time=0:00:00.316619\n",
      "2022-07-08 14:24:46,310 ebaysdk [DEBUG]:status code=200\n",
      "2022-07-08 14:24:46,310 ebaysdk [DEBUG]:headers={'rlogid': 't6buoajkbnmboh9%3Ftildvnelhcjkanl%28e1nae*w%60ut3541-181df458b99-0x2367', 'x-ebay-client-tls-version': 'TLSv1.3', 'x-ebay-soa-message-protocol': 'NONE', 'x-ebay-soa-response-data-format': 'XML', 'x-ebay-soa-global-id': 'EBAY-US', 'x-ebay-soa-locale-list': 'en-US_US', 'x-ebay-soa-service-name': '{http://www.ebay.com/marketplace/search/v1/services}FindingService', 'x-ebay-soa-request-id': '181df458-b990-ad37-d8c0-bfc4fff629df', 'x-ebay-soa-service-metrics': '72943510', 'x-ebay-soa-service-version': '1.13.0', 'x-ebay-soa-operation-name': 'findItemsAdvanced', 'content-type': 'text/xml;charset=UTF-8', 'date': 'Fri, 08 Jul 2022 19:24:45 GMT', 'server': 'ebay-proxy-server', 'x-envoy-upstream-service-time': '99', 'x-ebay-pop-id': 'UFES2-SLCAZ01-svcs', 'transfer-encoding': 'chunked'}\n",
      "2022-07-08 14:24:46,311 ebaysdk [DEBUG]:content=<?xml version='1.0' encoding='UTF-8'?><findItemsAdvancedResponse xmlns=\"http://www.ebay.com/marketplace/search/v1/services\"><ack>Success</ack><version>1.13.0</version><timestamp>2022-07-08T19:24:45.922Z</timestamp><searchResult count=\"10\"><item><itemId>333919956511</itemId><title> VICTORINOX SWISS ARMY KNIFE ACCESSORIES &amp; REPLACEMENT SPARE PARTS</title><globalId>EBAY-US</globalId><primaryCategory><categoryId>182972</categoryId><categoryName>Blade Parts &amp; Supplies</categoryName></primaryCategory><galleryURL>https://i.ebayimg.com/thumbs/images/g/-qsAAOSwSwBgTQKc/s-l140.jpg</galleryURL><viewItemURL>https://www.ebay.com/itm/VICTORINOX-SWISS-ARMY-KNIFE-ACCESSORIES-REPLACEMENT-SPARE-PARTS-/333919956511?var=0&amp;vti=</viewItemURL><autoPay>true</autoPay><postalCode>281**</postalCode><location>Waxhaw,NC,USA</location><country>US</country><shippingInfo><shippingServiceCost currencyId=\"USD\">0.0</shippingServiceCost><shippingType>Free</shippingType><shipToLocations>Worldwide</shipToLocations><expeditedShipping>false</expeditedShipping><oneDayShippingAvailable>false</oneDayShippingAvailable><handlingTime>3</handlingTime></shippingInfo><sellingStatus><currentPrice currencyId=\"USD\">3.0</currentPrice><convertedCurrentPrice currencyId=\"USD\">3.0</convertedCurrentPrice><sellingState>Active</sellingState><timeLeft>P5DT2H48M34S</timeLeft></sellingStatus><listingInfo><bestOfferEnabled>false</bestOfferEnabled><buyItNowAvailable>false</buyItNowAvailable><startTime>2021-03-13T22:14:18.000Z</startTime><endTime>2022-07-13T22:13:19.000Z</endTime><listingType>FixedPrice</listingType><gift>false</gift><watchCount>77</watchCount></listingInfo><returnsAccepted>false</returnsAccepted><condition><conditionId>1000</conditionId><conditionDisplayName>New</conditionDisplayName></condition><isMultiVariationListing>true</isMultiVariationListing><topRatedListing>false</topRatedListing></item><item><itemId>333919956511</itemId><title> VICTORINOX SWISS ARMY KNIFE ACCESSORIES &amp; REPLACEMENT SPARE PARTS</title><globalId>EBAY-US</globalId><primaryCategory><categoryId>182972</categoryId><categoryName>Blade Parts &amp; Supplies</categoryName></primaryCategory><galleryURL>https://i.ebayimg.com/thumbs/images/g/X~kAAOSwymhgTQMJ/s-l140.jpg</galleryURL><viewItemURL>https://www.ebay.com/itm/VICTORINOX-SWISS-ARMY-KNIFE-ACCESSORIES-REPLACEMENT-SPARE-PARTS-/333919956511?var=542979019761&amp;vti=</viewItemURL><autoPay>true</autoPay><postalCode>281**</postalCode><location>Waxhaw,NC,USA</location><country>US</country><shippingInfo><shippingServiceCost currencyId=\"USD\">0.0</shippingServiceCost><shippingType>Free</shippingType><shipToLocations>Worldwide</shipToLocations><expeditedShipping>false</expeditedShipping><oneDayShippingAvailable>false</oneDayShippingAvailable><handlingTime>3</handlingTime></shippingInfo><sellingStatus><currentPrice currencyId=\"USD\">3.0</currentPrice><convertedCurrentPrice currencyId=\"USD\">3.0</convertedCurrentPrice><sellingState>Active</sellingState><timeLeft>P5DT2H48M34S</timeLeft></sellingStatus><listingInfo><bestOfferEnabled>false</bestOfferEnabled><buyItNowAvailable>false</buyItNowAvailable><startTime>2021-03-13T22:14:18.000Z</startTime><endTime>2022-07-13T22:13:19.000Z</endTime><listingType>FixedPrice</listingType><gift>false</gift><watchCount>5</watchCount></listingInfo><returnsAccepted>false</returnsAccepted><condition><conditionId>1000</conditionId><conditionDisplayName>New</conditionDisplayName></condition><isMultiVariationListing>true</isMultiVariationListing><topRatedListing>false</topRatedListing></item><item><itemId>333919956511</itemId><title> VICTORINOX SWISS ARMY KNIFE ACCESSORIES &amp; REPLACEMENT SPARE PARTS</title><globalId>EBAY-US</globalId><primaryCategory><categoryId>182972</categoryId><categoryName>Blade Parts &amp; Supplies</categoryName></primaryCategory><galleryURL>https://i.ebayimg.com/thumbs/images/g/6HAAAOSwJy5gTQMQ/s-l140.jpg</galleryURL><viewItemURL>https://www.ebay.com/itm/VICTORINOX-SWISS-ARMY-KNIFE-ACCESSORIES-REPLACEMENT-SPARE-PARTS-/333919956511?var=542979019762&amp;vti=</viewItemURL><autoPay>true</autoPay><postalCode>281**</postalCode><location>Waxhaw,NC,USA</location><country>US</country><shippingInfo><shippingServiceCost currencyId=\"USD\">0.0</shippingServiceCost><shippingType>Free</shippingType><shipToLocations>Worldwide</shipToLocations><expeditedShipping>false</expeditedShipping><oneDayShippingAvailable>false</oneDayShippingAvailable><handlingTime>3</handlingTime></shippingInfo><sellingStatus><currentPrice currencyId=\"USD\">3.0</currentPrice><convertedCurrentPrice currencyId=\"USD\">3.0</convertedCurrentPrice><sellingState>Active</sellingState><timeLeft>P5DT2H48M34S</timeLeft></sellingStatus><listingInfo><bestOfferEnabled>false</bestOfferEnabled><buyItNowAvailable>false</buyItNowAvailable><startTime>2021-03-13T22:14:18.000Z</startTime><endTime>2022-07-13T22:13:19.000Z</endTime><listingType>FixedPrice</listingType><gift>false</gift><watchCount>3</watchCount></listingInfo><returnsAccepted>false</returnsAccepted><condition><conditionId>1000</conditionId><conditionDisplayName>New</conditionDisplayName></condition><isMultiVariationListing>true</isMultiVariationListing><topRatedListing>false</topRatedListing></item><item><itemId>334436704556</itemId><title>VICTORINOX SWISS KNIFE REPLACEMENT PART CLASSIC A.6257 SMALL SCISSOR SPRING 1 EA</title><globalId>EBAY-US</globalId><primaryCategory><categoryId>75235</categoryId><categoryName>Camping Knives</categoryName></primaryCategory><galleryURL>https://i.ebayimg.com/thumbs/images/g/7LcAAOSw6iNiH8PN/s-l140.jpg</galleryURL><viewItemURL>https://www.ebay.com/itm/VICTORINOX-SWISS-KNIFE-REPLACEMENT-PART-CLASSIC-A-6257-SMALL-SCISSOR-SPRING-1-EA-/334436704556</viewItemURL><autoPay>true</autoPay><postalCode>281**</postalCode><location>Waxhaw,NC,USA</location><country>US</country><shippingInfo><shippingServiceCost currencyId=\"USD\">0.0</shippingServiceCost><shippingType>Free</shippingType><shipToLocations>Worldwide</shipToLocations><expeditedShipping>false</expeditedShipping><oneDayShippingAvailable>false</oneDayShippingAvailable><handlingTime>3</handlingTime></shippingInfo><sellingStatus><currentPrice currencyId=\"USD\">3.5</currentPrice><convertedCurrentPrice currencyId=\"USD\">3.5</convertedCurrentPrice><sellingState>Active</sellingState><timeLeft>P1DT23H57M18S</timeLeft></sellingStatus><listingInfo><bestOfferEnabled>false</bestOfferEnabled><buyItNowAvailable>false</buyItNowAvailable><startTime>2022-05-10T19:22:03.000Z</startTime><endTime>2022-07-10T19:22:03.000Z</endTime><listingType>FixedPrice</listingType><gift>false</gift><watchCount>5</watchCount></listingInfo><returnsAccepted>false</returnsAccepted><condition><conditionId>1000</conditionId><conditionDisplayName>New</conditionDisplayName></condition><isMultiVariationListing>false</isMultiVariationListing><topRatedListing>false</topRatedListing></item><item><itemId>324942861111</itemId><title>Victorinox paring knife, 3 1/4\", Made in Switzerland</title><globalId>EBAY-US</globalId><primaryCategory><categoryId>177005</categoryId><categoryName>Kitchen &amp; Steak Knives</categoryName></primaryCategory><galleryURL>https://i.ebayimg.com/thumbs/images/g/o6oAAOSw7E1hupPW/s-l140.jpg</galleryURL><viewItemURL>https://www.ebay.com/itm/Victorinox-paring-knife-3-1-4-Made-Switzerland-/324942861111</viewItemURL><autoPay>true</autoPay><postalCode>201**</postalCode><location>Reston,VA,USA</location><country>US</country><shippingInfo><shippingServiceCost currencyId=\"USD\">0.0</shippingServiceCost><shippingType>FreePickup</shippingType><shipToLocations>Worldwide</shipToLocations><expeditedShipping>false</expeditedShipping><oneDayShippingAvailable>false</oneDayShippingAvailable><handlingTime>1</handlingTime></shippingInfo><sellingStatus><currentPrice currencyId=\"USD\">3.5</currentPrice><convertedCurrentPrice currencyId=\"USD\">3.5</convertedCurrentPrice><sellingState>Active</sellingState><timeLeft>P7DT5H55M25S</timeLeft></sellingStatus><listingInfo><bestOfferEnabled>true</bestOfferEnabled><buyItNowAvailable>false</buyItNowAvailable><startTime>2021-12-16T01:20:10.000Z</startTime><endTime>2022-07-16T01:20:10.000Z</endTime><listingType>FixedPrice</listingType><gift>false</gift></listingInfo><returnsAccepted>true</returnsAccepted><condition><conditionId>3000</conditionId><conditionDisplayName>Used</conditionDisplayName></condition><isMultiVariationListing>false</isMultiVariationListing><topRatedListing>false</topRatedListing></item><item><itemId>175311664836</itemId><title>Victorinox Replacement SCALE SHIELD LOGO for 58mm Swiss Army Knife (Lot of 4)</title><globalId>EBAY-US</globalId><primaryCategory><categoryId>48818</categoryId><categoryName>Factory Manufactured</categoryName></primaryCategory><galleryURL>https://i.ebayimg.com/thumbs/images/g/jeIAAOSwvFhhFMIB/s-l140.jpg</galleryURL><viewItemURL>https://www.ebay.com/itm/Victorinox-Replacement-SCALE-SHIELD-LOGO-58mm-Swiss-Army-Knife-Lot-4-/175311664836</viewItemURL><autoPay>false</autoPay><postalCode>151**</postalCode><location>Sewickley,PA,USA</location><country>US</country><shippingInfo><shippingServiceCost currencyId=\"USD\">0.0</shippingServiceCost><shippingType>Free</shippingType><shipToLocations>Worldwide</shipToLocations><expeditedShipping>false</expeditedShipping><oneDayShippingAvailable>false</oneDayShippingAvailable><handlingTime>3</handlingTime></shippingInfo><sellingStatus><currentPrice currencyId=\"USD\">3.5</currentPrice><convertedCurrentPrice currencyId=\"USD\">3.5</convertedCurrentPrice><sellingState>Active</sellingState><timeLeft>P30DT19H36M17S</timeLeft></sellingStatus><listingInfo><bestOfferEnabled>false</bestOfferEnabled><buyItNowAvailable>false</buyItNowAvailable><startTime>2022-06-08T15:01:02.000Z</startTime><endTime>2022-08-08T15:01:02.000Z</endTime><listingType>FixedPrice</listingType><gift>false</gift><watchCount>3</watchCount></listingInfo><returnsAccepted>true</returnsAccepted><condition><conditionId>3000</conditionId><conditionDisplayName>Used</conditionDisplayName></condition><isMultiVariationListing>false</isMultiVariationListing><topRatedListing>false</topRatedListing></item><item><itemId>284166743111</itemId><title>Nylon Sheath High Quality Black Folding Pocket Knife Pouch Case Camping tool</title><globalId>EBAY-US</globalId><primaryCategory><categoryId>43221</categoryId><categoryName>Sheaths</categoryName></primaryCategory><galleryURL>https://i.ebayimg.com/thumbs/images/g/pgUAAOSww2NgFYNZ/s-l140.jpg</galleryURL><viewItemURL>https://www.ebay.com/itm/Nylon-Sheath-High-Quality-Black-Folding-Pocket-Knife-Pouch-Case-Camping-tool-/284166743111</viewItemURL><autoPay>true</autoPay><postalCode>******</postalCode><location>China</location><country>CN</country><shippingInfo><shippingServiceCost currencyId=\"USD\">0.0</shippingServiceCost><shippingType>Free</shippingType><shipToLocations>Worldwide</shipToLocations><expeditedShipping>false</expeditedShipping><oneDayShippingAvailable>false</oneDayShippingAvailable><handlingTime>10</handlingTime></shippingInfo><sellingStatus><currentPrice currencyId=\"USD\">3.89</currentPrice><convertedCurrentPrice currencyId=\"USD\">3.89</convertedCurrentPrice><sellingState>Active</sellingState><timeLeft>P22DT7H34M53S</timeLeft></sellingStatus><listingInfo><bestOfferEnabled>true</bestOfferEnabled><buyItNowAvailable>false</buyItNowAvailable><startTime>2021-01-31T02:59:38.000Z</startTime><endTime>2022-07-31T02:59:38.000Z</endTime><listingType>FixedPrice</listingType><gift>false</gift><watchCount>6</watchCount></listingInfo><returnsAccepted>true</returnsAccepted><condition><conditionId>1000</conditionId><conditionDisplayName>New</conditionDisplayName></condition><isMultiVariationListing>false</isMultiVariationListing><topRatedListing>false</topRatedListing></item><item><itemId>234419127077</itemId><title>Stainless Steel Back Clip DIY Folding Pocket Knife Back Clip Holder Tool EDC</title><globalId>EBAY-US</globalId><primaryCategory><categoryId>182972</categoryId><categoryName>Blade Parts &amp; Supplies</categoryName></primaryCategory><galleryURL>https://i.ebayimg.com/thumbs/images/g/nZQAAOSwX-piCQwe/s-l140.jpg</galleryURL><viewItemURL>https://www.ebay.com/itm/Stainless-Steel-Back-Clip-DIY-Folding-Pocket-Knife-Back-Clip-Holder-Tool-EDC-/234419127077?var=0&amp;vti=</viewItemURL><autoPay>true</autoPay><location>China</location><country>CN</country><shippingInfo><shippingServiceCost currencyId=\"USD\">0.0</shippingServiceCost><shippingType>Free</shippingType><shipToLocations>Worldwide</shipToLocations><expeditedShipping>false</expeditedShipping><oneDayShippingAvailable>false</oneDayShippingAvailable><handlingTime>3</handlingTime></shippingInfo><sellingStatus><currentPrice currencyId=\"USD\">3.99</currentPrice><convertedCurrentPrice currencyId=\"USD\">3.99</convertedCurrentPrice><sellingState>Active</sellingState><timeLeft>P4DT18H59M53S</timeLeft></sellingStatus><listingInfo><bestOfferEnabled>false</bestOfferEnabled><buyItNowAvailable>false</buyItNowAvailable><startTime>2022-02-13T14:24:38.000Z</startTime><endTime>2022-07-13T14:24:38.000Z</endTime><listingType>FixedPrice</listingType><gift>false</gift><watchCount>3</watchCount></listingInfo><returnsAccepted>true</returnsAccepted><condition><conditionId>1000</conditionId><conditionDisplayName>New</conditionDisplayName></condition><isMultiVariationListing>true</isMultiVariationListing><topRatedListing>false</topRatedListing></item><item><itemId>234419127077</itemId><title>Stainless Steel Back Clip DIY Folding Pocket Knife Back Clip Holder Tool EDC</title><globalId>EBAY-US</globalId><primaryCategory><categoryId>182972</categoryId><categoryName>Blade Parts &amp; Supplies</categoryName></primaryCategory><galleryURL>https://i.ebayimg.com/thumbs/images/g/AswAAOSwWwFiCRPy/s-l140.jpg</galleryURL><viewItemURL>https://www.ebay.com/itm/Stainless-Steel-Back-Clip-DIY-Folding-Pocket-Knife-Back-Clip-Holder-Tool-EDC-/234419127077?var=533988463591&amp;vti=</viewItemURL><autoPay>true</autoPay><location>China</location><country>CN</country><shippingInfo><shippingServiceCost currencyId=\"USD\">0.0</shippingServiceCost><shippingType>Free</shippingType><shipToLocations>Worldwide</shipToLocations><expeditedShipping>false</expeditedShipping><oneDayShippingAvailable>false</oneDayShippingAvailable><handlingTime>3</handlingTime></shippingInfo><sellingStatus><currentPrice currencyId=\"USD\">3.99</currentPrice><convertedCurrentPrice currencyId=\"USD\">3.99</convertedCurrentPrice><sellingState>Active</sellingState><timeLeft>P4DT18H59M53S</timeLeft></sellingStatus><listingInfo><bestOfferEnabled>false</bestOfferEnabled><buyItNowAvailable>false</buyItNowAvailable><startTime>2022-02-13T14:24:38.000Z</startTime><endTime>2022-07-13T14:24:38.000Z</endTime><listingType>FixedPrice</listingType><gift>false</gift><watchCount>1</watchCount></listingInfo><returnsAccepted>true</returnsAccepted><condition><conditionId>1000</conditionId><conditionDisplayName>New</conditionDisplayName></condition><isMultiVariationListing>true</isMultiVariationListing><topRatedListing>false</topRatedListing></item><item><itemId>185452405816</itemId><title>Victorinox Swiss Army Knives Replacement Small Stainless Steel Keyring</title><globalId>EBAY-US</globalId><primaryCategory><categoryId>48818</categoryId><categoryName>Factory Manufactured</categoryName></primaryCategory><galleryURL>https://i.ebayimg.com/thumbs/images/g/OnAAAOSwK-Zim6rV/s-l140.jpg</galleryURL><viewItemURL>https://www.ebay.com/itm/Victorinox-Swiss-Army-Knives-Replacement-Small-Stainless-Steel-Keyring-/185452405816</viewItemURL><autoPay>true</autoPay><postalCode>980**</postalCode><location>Lynnwood,WA,USA</location><country>US</country><shippingInfo><shippingServiceCost currencyId=\"USD\">0.0</shippingServiceCost><shippingType>Free</shippingType><shipToLocations>Worldwide</shipToLocations><expeditedShipping>false</expeditedShipping><oneDayShippingAvailable>false</oneDayShippingAvailable><handlingTime>3</handlingTime></shippingInfo><sellingStatus><currentPrice currencyId=\"USD\">3.99</currentPrice><convertedCurrentPrice currencyId=\"USD\">3.99</convertedCurrentPrice><sellingState>Active</sellingState><timeLeft>P26DT23H32M48S</timeLeft></sellingStatus><listingInfo><bestOfferEnabled>false</bestOfferEnabled><buyItNowAvailable>false</buyItNowAvailable><startTime>2022-06-04T18:57:33.000Z</startTime><endTime>2022-08-04T18:57:33.000Z</endTime><listingType>FixedPrice</listingType><gift>false</gift></listingInfo><returnsAccepted>true</returnsAccepted><condition><conditionId>1000</conditionId><conditionDisplayName>New</conditionDisplayName></condition><isMultiVariationListing>false</isMultiVariationListing><topRatedListing>false</topRatedListing></item></searchResult><paginationOutput><pageNumber>1</pageNumber><entriesPerPage>10</entriesPerPage><totalPages>5011</totalPages><totalEntries>50104</totalEntries></paginationOutput><itemSearchURL>https://www.ebay.com/sch/i.html?Brand%255Cu0007=Benchmade%7CBuck%7CCase%7CCRKT%7CKershaw%7CLeatherman%7CSpyderco%7CVictorinox&amp;_nkw=knife&amp;LH_BIN=1&amp;fsaspfilter=Brand%3DBenchmade%7CBuck%7CCase%7CCRKT%7CKershaw%7CLeatherman%7CSpyderco%7CVictorinox&amp;aspectrequest=1&amp;_ddo=1&amp;_incaucbin=0&amp;_ipg=10&amp;_pgn=1&amp;_sop=15</itemSearchURL></findItemsAdvancedResponse>\n"
     ]
    },
    {
     "name": "stderr",
     "output_type": "stream",
     "text": [
      "2022-07-08 14:24:46,317 ebaysdk [DEBUG]:total time=0.3272979259490967\n"
     ]
    }
   ],
   "source": [
    "from ebaysdk.finding import Connection\n",
    "\n",
    "if __name__ == '__main__':\n",
    "    api = Connection(config_file='ebay.yaml', debug=True, siteid=\"EBAY-US\")\n",
    "\n",
    "    request = {\n",
    "        'keywords': 'knife',\n",
    "        'itemFilter': [\n",
    "            {'name': 'condition', 'value': 'Used'},\n",
    "            {'name': 'ListingType', 'value': 'FixedPrice'}\n",
    "        ],\n",
    "        'aspectFilter': [\n",
    "            {'aspectName': 'Brand', 'aspectValueName': 'Benchmade'},\n",
    "            {'aspectName': 'Brand', 'aspectValueName': 'Buck'},\n",
    "            {'aspectName': 'Brand', 'aspectValueName': 'Case'},\n",
    "            {'aspectName': 'Brand', 'aspectValueName': 'CRKT'},\n",
    "            {'aspectName': 'Brand', 'aspectValueName': 'Kershaw'},\n",
    "            {'aspectName': 'Brand', 'aspectValueName': 'Leatherman'},\n",
    "            {'aspectName': 'Brand', 'aspectValueName': 'Spyderco'},\n",
    "            {'aspectName': 'Brand', 'aspectValueName': 'Victorinox'},\n",
    "        ],\n",
    "        'paginationInput': {\n",
    "            'entriesPerPage': 10,\n",
    "            'pageNumber': 1\n",
    "        },\n",
    "        'sortOrder': 'PricePlusShippingLowest'\n",
    "    }\n",
    "\n",
    "    response = api.execute('findItemsAdvanced', request)"
   ]
  },
  {
   "cell_type": "code",
   "execution_count": null,
   "metadata": {},
   "outputs": [],
   "source": [
    "# payload = {\n",
    "#             \"keywords\":\"knife\", #knife in search bar\n",
    "#             \"categoryId\":\"48818\", #Collectible-Modern-Factory-Manufactured-Folding-Knives\n",
    "#             \"itemFilter(0).name\": \"Condition\",\n",
    "#             \"itemFilter(0).value\": \"Used\",\n",
    "#             \"itemFilter(1).name\": \"ListingType\",\n",
    "#             \"itemFilter(1).value\": \"FixedPrice\",\n",
    "#             \"aspectFilter.aspectName(0)\": \"Brand\",\n",
    "#             \"aspectFilter.aspectValueName(0)\": \"Benchmade\",\n",
    "#             \"aspectFilter.aspectName(1)\": \"Brand\",\n",
    "#             \"aspectFilter.aspectValueName(1)\": \"Buck\",\n",
    "#             \"aspectFilter.aspectName(2)\": \"Brand\",\n",
    "#             \"aspectFilter.aspectValueName(2)\": \"Case\",\n",
    "#             \"aspectFilter.aspectName(3)\": \"Brand\",\n",
    "#             \"aspectFilter.aspectValueName(3)\": \"CRKT\",\n",
    "#             \"aspectFilter.aspectName(4)\": \"Brand\",\n",
    "#             \"aspectFilter.aspectValueName(4)\": \"Kershaw\",\n",
    "#             \"aspectFilter.aspectName(5)\": \"Brand\",\n",
    "#             \"aspectFilter.aspectValueName(5)\": \"Leatherman\",\n",
    "#             \"aspectFilter.aspectName(7)\": \"Brand\",\n",
    "#             \"aspectFilter.aspectValueName(7)\": \"Spyderco\",\n",
    "#             \"paginationInput.entriesPerPage\": 100,\n",
    "#             \"PaginationInput.pageNumber\": 6\n",
    "        \n",
    "#           }"
   ]
  },
  {
   "cell_type": "code",
   "execution_count": null,
   "metadata": {},
   "outputs": [],
   "source": []
  }
 ],
 "metadata": {
  "kernelspec": {
   "display_name": "Python (learn-env)",
   "language": "python",
   "name": "learn-env"
  },
  "language_info": {
   "codemirror_mode": {
    "name": "ipython",
    "version": 3
   },
   "file_extension": ".py",
   "mimetype": "text/x-python",
   "name": "python",
   "nbconvert_exporter": "python",
   "pygments_lexer": "ipython3",
   "version": "3.8.5"
  }
 },
 "nbformat": 4,
 "nbformat_minor": 4
}
